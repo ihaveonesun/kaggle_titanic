{
 "cells": [
  {
   "cell_type": "markdown",
   "id": "740e58c0",
   "metadata": {
    "papermill": {
     "duration": 0.007043,
     "end_time": "2022-12-25T02:57:51.403572",
     "exception": false,
     "start_time": "2022-12-25T02:57:51.396529",
     "status": "completed"
    },
    "tags": []
   },
   "source": [
    "Since this is my first notebook in Kaggle, I've followed the tutorial for learning purpose. After, I've made some tweaks for the Random Forest yet."
   ]
  },
  {
   "cell_type": "code",
   "execution_count": 1,
   "id": "1a12ba38",
   "metadata": {
    "_cell_guid": "b1076dfc-b9ad-4769-8c92-a6c4dae69d19",
    "_uuid": "8f2839f25d086af736a60e9eeb907d3b93b6e0e5",
    "execution": {
     "iopub.execute_input": "2022-12-25T02:57:51.417898Z",
     "iopub.status.busy": "2022-12-25T02:57:51.417287Z",
     "iopub.status.idle": "2022-12-25T02:57:52.674661Z",
     "shell.execute_reply": "2022-12-25T02:57:52.673817Z"
    },
    "papermill": {
     "duration": 1.267737,
     "end_time": "2022-12-25T02:57:52.677241",
     "exception": false,
     "start_time": "2022-12-25T02:57:51.409504",
     "status": "completed"
    },
    "tags": []
   },
   "outputs": [
    {
     "name": "stdout",
     "output_type": "stream",
     "text": [
      "/kaggle/input/titanic/train.csv\n",
      "/kaggle/input/titanic/test.csv\n",
      "/kaggle/input/titanic/gender_submission.csv\n"
     ]
    }
   ],
   "source": [
    "import numpy as np # linear algebra\n",
    "import pandas as pd # data processing, CSV file I/O (e.g. pd.read_csv)\n",
    "\n",
    "# Input data files are available in the read-only \"../input/\" directory\n",
    "# For example, running this (by clicking run or pressing Shift+Enter) will list all files under the input directory\n",
    "\n",
    "import os\n",
    "for dirname, _, filenames in os.walk('/kaggle/input'):\n",
    "    for filename in filenames:\n",
    "        print(os.path.join(dirname, filename))        \n",
    "\n",
    "        \n",
    "from sklearn.ensemble import RandomForestClassifier\n",
    "\n",
    "from sklearn.model_selection import train_test_split\n",
    "from sklearn.metrics import accuracy_score"
   ]
  },
  {
   "cell_type": "code",
   "execution_count": 2,
   "id": "342f508e",
   "metadata": {
    "execution": {
     "iopub.execute_input": "2022-12-25T02:57:52.691041Z",
     "iopub.status.busy": "2022-12-25T02:57:52.690479Z",
     "iopub.status.idle": "2022-12-25T02:57:52.730844Z",
     "shell.execute_reply": "2022-12-25T02:57:52.729741Z"
    },
    "papermill": {
     "duration": 0.050054,
     "end_time": "2022-12-25T02:57:52.733290",
     "exception": false,
     "start_time": "2022-12-25T02:57:52.683236",
     "status": "completed"
    },
    "tags": []
   },
   "outputs": [
    {
     "data": {
      "text/html": [
       "<div>\n",
       "<style scoped>\n",
       "    .dataframe tbody tr th:only-of-type {\n",
       "        vertical-align: middle;\n",
       "    }\n",
       "\n",
       "    .dataframe tbody tr th {\n",
       "        vertical-align: top;\n",
       "    }\n",
       "\n",
       "    .dataframe thead th {\n",
       "        text-align: right;\n",
       "    }\n",
       "</style>\n",
       "<table border=\"1\" class=\"dataframe\">\n",
       "  <thead>\n",
       "    <tr style=\"text-align: right;\">\n",
       "      <th></th>\n",
       "      <th>PassengerId</th>\n",
       "      <th>Survived</th>\n",
       "      <th>Pclass</th>\n",
       "      <th>Name</th>\n",
       "      <th>Sex</th>\n",
       "      <th>Age</th>\n",
       "      <th>SibSp</th>\n",
       "      <th>Parch</th>\n",
       "      <th>Ticket</th>\n",
       "      <th>Fare</th>\n",
       "      <th>Cabin</th>\n",
       "      <th>Embarked</th>\n",
       "    </tr>\n",
       "  </thead>\n",
       "  <tbody>\n",
       "    <tr>\n",
       "      <th>0</th>\n",
       "      <td>1</td>\n",
       "      <td>0</td>\n",
       "      <td>3</td>\n",
       "      <td>Braund, Mr. Owen Harris</td>\n",
       "      <td>male</td>\n",
       "      <td>22.0</td>\n",
       "      <td>1</td>\n",
       "      <td>0</td>\n",
       "      <td>A/5 21171</td>\n",
       "      <td>7.2500</td>\n",
       "      <td>NaN</td>\n",
       "      <td>S</td>\n",
       "    </tr>\n",
       "    <tr>\n",
       "      <th>1</th>\n",
       "      <td>2</td>\n",
       "      <td>1</td>\n",
       "      <td>1</td>\n",
       "      <td>Cumings, Mrs. John Bradley (Florence Briggs Th...</td>\n",
       "      <td>female</td>\n",
       "      <td>38.0</td>\n",
       "      <td>1</td>\n",
       "      <td>0</td>\n",
       "      <td>PC 17599</td>\n",
       "      <td>71.2833</td>\n",
       "      <td>C85</td>\n",
       "      <td>C</td>\n",
       "    </tr>\n",
       "    <tr>\n",
       "      <th>2</th>\n",
       "      <td>3</td>\n",
       "      <td>1</td>\n",
       "      <td>3</td>\n",
       "      <td>Heikkinen, Miss. Laina</td>\n",
       "      <td>female</td>\n",
       "      <td>26.0</td>\n",
       "      <td>0</td>\n",
       "      <td>0</td>\n",
       "      <td>STON/O2. 3101282</td>\n",
       "      <td>7.9250</td>\n",
       "      <td>NaN</td>\n",
       "      <td>S</td>\n",
       "    </tr>\n",
       "    <tr>\n",
       "      <th>3</th>\n",
       "      <td>4</td>\n",
       "      <td>1</td>\n",
       "      <td>1</td>\n",
       "      <td>Futrelle, Mrs. Jacques Heath (Lily May Peel)</td>\n",
       "      <td>female</td>\n",
       "      <td>35.0</td>\n",
       "      <td>1</td>\n",
       "      <td>0</td>\n",
       "      <td>113803</td>\n",
       "      <td>53.1000</td>\n",
       "      <td>C123</td>\n",
       "      <td>S</td>\n",
       "    </tr>\n",
       "    <tr>\n",
       "      <th>4</th>\n",
       "      <td>5</td>\n",
       "      <td>0</td>\n",
       "      <td>3</td>\n",
       "      <td>Allen, Mr. William Henry</td>\n",
       "      <td>male</td>\n",
       "      <td>35.0</td>\n",
       "      <td>0</td>\n",
       "      <td>0</td>\n",
       "      <td>373450</td>\n",
       "      <td>8.0500</td>\n",
       "      <td>NaN</td>\n",
       "      <td>S</td>\n",
       "    </tr>\n",
       "  </tbody>\n",
       "</table>\n",
       "</div>"
      ],
      "text/plain": [
       "   PassengerId  Survived  Pclass  \\\n",
       "0            1         0       3   \n",
       "1            2         1       1   \n",
       "2            3         1       3   \n",
       "3            4         1       1   \n",
       "4            5         0       3   \n",
       "\n",
       "                                                Name     Sex   Age  SibSp  \\\n",
       "0                            Braund, Mr. Owen Harris    male  22.0      1   \n",
       "1  Cumings, Mrs. John Bradley (Florence Briggs Th...  female  38.0      1   \n",
       "2                             Heikkinen, Miss. Laina  female  26.0      0   \n",
       "3       Futrelle, Mrs. Jacques Heath (Lily May Peel)  female  35.0      1   \n",
       "4                           Allen, Mr. William Henry    male  35.0      0   \n",
       "\n",
       "   Parch            Ticket     Fare Cabin Embarked  \n",
       "0      0         A/5 21171   7.2500   NaN        S  \n",
       "1      0          PC 17599  71.2833   C85        C  \n",
       "2      0  STON/O2. 3101282   7.9250   NaN        S  \n",
       "3      0            113803  53.1000  C123        S  \n",
       "4      0            373450   8.0500   NaN        S  "
      ]
     },
     "execution_count": 2,
     "metadata": {},
     "output_type": "execute_result"
    }
   ],
   "source": [
    "train_data = pd.read_csv('/kaggle/input/titanic/train.csv')\n",
    "train_data.head()"
   ]
  },
  {
   "cell_type": "code",
   "execution_count": 3,
   "id": "dd0d2e1b",
   "metadata": {
    "execution": {
     "iopub.execute_input": "2022-12-25T02:57:52.747384Z",
     "iopub.status.busy": "2022-12-25T02:57:52.746763Z",
     "iopub.status.idle": "2022-12-25T02:57:52.769597Z",
     "shell.execute_reply": "2022-12-25T02:57:52.768709Z"
    },
    "papermill": {
     "duration": 0.032305,
     "end_time": "2022-12-25T02:57:52.771645",
     "exception": false,
     "start_time": "2022-12-25T02:57:52.739340",
     "status": "completed"
    },
    "tags": []
   },
   "outputs": [
    {
     "data": {
      "text/html": [
       "<div>\n",
       "<style scoped>\n",
       "    .dataframe tbody tr th:only-of-type {\n",
       "        vertical-align: middle;\n",
       "    }\n",
       "\n",
       "    .dataframe tbody tr th {\n",
       "        vertical-align: top;\n",
       "    }\n",
       "\n",
       "    .dataframe thead th {\n",
       "        text-align: right;\n",
       "    }\n",
       "</style>\n",
       "<table border=\"1\" class=\"dataframe\">\n",
       "  <thead>\n",
       "    <tr style=\"text-align: right;\">\n",
       "      <th></th>\n",
       "      <th>PassengerId</th>\n",
       "      <th>Pclass</th>\n",
       "      <th>Name</th>\n",
       "      <th>Sex</th>\n",
       "      <th>Age</th>\n",
       "      <th>SibSp</th>\n",
       "      <th>Parch</th>\n",
       "      <th>Ticket</th>\n",
       "      <th>Fare</th>\n",
       "      <th>Cabin</th>\n",
       "      <th>Embarked</th>\n",
       "    </tr>\n",
       "  </thead>\n",
       "  <tbody>\n",
       "    <tr>\n",
       "      <th>0</th>\n",
       "      <td>892</td>\n",
       "      <td>3</td>\n",
       "      <td>Kelly, Mr. James</td>\n",
       "      <td>male</td>\n",
       "      <td>34.5</td>\n",
       "      <td>0</td>\n",
       "      <td>0</td>\n",
       "      <td>330911</td>\n",
       "      <td>7.8292</td>\n",
       "      <td>NaN</td>\n",
       "      <td>Q</td>\n",
       "    </tr>\n",
       "    <tr>\n",
       "      <th>1</th>\n",
       "      <td>893</td>\n",
       "      <td>3</td>\n",
       "      <td>Wilkes, Mrs. James (Ellen Needs)</td>\n",
       "      <td>female</td>\n",
       "      <td>47.0</td>\n",
       "      <td>1</td>\n",
       "      <td>0</td>\n",
       "      <td>363272</td>\n",
       "      <td>7.0000</td>\n",
       "      <td>NaN</td>\n",
       "      <td>S</td>\n",
       "    </tr>\n",
       "    <tr>\n",
       "      <th>2</th>\n",
       "      <td>894</td>\n",
       "      <td>2</td>\n",
       "      <td>Myles, Mr. Thomas Francis</td>\n",
       "      <td>male</td>\n",
       "      <td>62.0</td>\n",
       "      <td>0</td>\n",
       "      <td>0</td>\n",
       "      <td>240276</td>\n",
       "      <td>9.6875</td>\n",
       "      <td>NaN</td>\n",
       "      <td>Q</td>\n",
       "    </tr>\n",
       "    <tr>\n",
       "      <th>3</th>\n",
       "      <td>895</td>\n",
       "      <td>3</td>\n",
       "      <td>Wirz, Mr. Albert</td>\n",
       "      <td>male</td>\n",
       "      <td>27.0</td>\n",
       "      <td>0</td>\n",
       "      <td>0</td>\n",
       "      <td>315154</td>\n",
       "      <td>8.6625</td>\n",
       "      <td>NaN</td>\n",
       "      <td>S</td>\n",
       "    </tr>\n",
       "    <tr>\n",
       "      <th>4</th>\n",
       "      <td>896</td>\n",
       "      <td>3</td>\n",
       "      <td>Hirvonen, Mrs. Alexander (Helga E Lindqvist)</td>\n",
       "      <td>female</td>\n",
       "      <td>22.0</td>\n",
       "      <td>1</td>\n",
       "      <td>1</td>\n",
       "      <td>3101298</td>\n",
       "      <td>12.2875</td>\n",
       "      <td>NaN</td>\n",
       "      <td>S</td>\n",
       "    </tr>\n",
       "  </tbody>\n",
       "</table>\n",
       "</div>"
      ],
      "text/plain": [
       "   PassengerId  Pclass                                          Name     Sex  \\\n",
       "0          892       3                              Kelly, Mr. James    male   \n",
       "1          893       3              Wilkes, Mrs. James (Ellen Needs)  female   \n",
       "2          894       2                     Myles, Mr. Thomas Francis    male   \n",
       "3          895       3                              Wirz, Mr. Albert    male   \n",
       "4          896       3  Hirvonen, Mrs. Alexander (Helga E Lindqvist)  female   \n",
       "\n",
       "    Age  SibSp  Parch   Ticket     Fare Cabin Embarked  \n",
       "0  34.5      0      0   330911   7.8292   NaN        Q  \n",
       "1  47.0      1      0   363272   7.0000   NaN        S  \n",
       "2  62.0      0      0   240276   9.6875   NaN        Q  \n",
       "3  27.0      0      0   315154   8.6625   NaN        S  \n",
       "4  22.0      1      1  3101298  12.2875   NaN        S  "
      ]
     },
     "execution_count": 3,
     "metadata": {},
     "output_type": "execute_result"
    }
   ],
   "source": [
    "test_data = pd.read_csv('/kaggle/input/titanic/test.csv')\n",
    "test_data.head()"
   ]
  },
  {
   "cell_type": "code",
   "execution_count": 4,
   "id": "e0055087",
   "metadata": {
    "execution": {
     "iopub.execute_input": "2022-12-25T02:57:52.786361Z",
     "iopub.status.busy": "2022-12-25T02:57:52.785701Z",
     "iopub.status.idle": "2022-12-25T02:57:52.798552Z",
     "shell.execute_reply": "2022-12-25T02:57:52.797235Z"
    },
    "papermill": {
     "duration": 0.023392,
     "end_time": "2022-12-25T02:57:52.801438",
     "exception": false,
     "start_time": "2022-12-25T02:57:52.778046",
     "status": "completed"
    },
    "tags": []
   },
   "outputs": [
    {
     "name": "stdout",
     "output_type": "stream",
     "text": [
      "0.74 of women who survived!\n"
     ]
    }
   ],
   "source": [
    "women = train_data.loc[train_data.Sex == 'female']['Survived']\n",
    "rate_women = sum(women)/len(women)\n",
    "\n",
    "print('{:.2f} of women who survived!'.format(rate_women))"
   ]
  },
  {
   "cell_type": "code",
   "execution_count": 5,
   "id": "11d75839",
   "metadata": {
    "execution": {
     "iopub.execute_input": "2022-12-25T02:57:52.816189Z",
     "iopub.status.busy": "2022-12-25T02:57:52.815785Z",
     "iopub.status.idle": "2022-12-25T02:57:52.823457Z",
     "shell.execute_reply": "2022-12-25T02:57:52.822358Z"
    },
    "papermill": {
     "duration": 0.017523,
     "end_time": "2022-12-25T02:57:52.825775",
     "exception": false,
     "start_time": "2022-12-25T02:57:52.808252",
     "status": "completed"
    },
    "tags": []
   },
   "outputs": [
    {
     "name": "stdout",
     "output_type": "stream",
     "text": [
      "0.19 of men who survived...\n"
     ]
    }
   ],
   "source": [
    "men = train_data.loc[train_data.Sex == 'male']['Survived']\n",
    "rate_men = sum(men)/len(men)\n",
    "\n",
    "print('{:.2f} of men who survived...'.format(rate_men))"
   ]
  },
  {
   "cell_type": "markdown",
   "id": "949c1518",
   "metadata": {
    "papermill": {
     "duration": 0.006233,
     "end_time": "2022-12-25T02:57:52.838560",
     "exception": false,
     "start_time": "2022-12-25T02:57:52.832327",
     "status": "completed"
    },
    "tags": []
   },
   "source": [
    "#### Creating a RandomForest model"
   ]
  },
  {
   "cell_type": "code",
   "execution_count": 6,
   "id": "822b7dd6",
   "metadata": {
    "execution": {
     "iopub.execute_input": "2022-12-25T02:57:52.853999Z",
     "iopub.status.busy": "2022-12-25T02:57:52.852971Z",
     "iopub.status.idle": "2022-12-25T02:57:53.051156Z",
     "shell.execute_reply": "2022-12-25T02:57:53.050094Z"
    },
    "papermill": {
     "duration": 0.208986,
     "end_time": "2022-12-25T02:57:53.054139",
     "exception": false,
     "start_time": "2022-12-25T02:57:52.845153",
     "status": "completed"
    },
    "tags": []
   },
   "outputs": [],
   "source": [
    "y = train_data['Survived']\n",
    "features = ['Pclass', 'Sex', 'SibSp', 'Parch']\n",
    "\n",
    "# change text features to binary\n",
    "X = pd.get_dummies(train_data[features])\n",
    "X_test = pd.get_dummies(test_data[features])\n",
    "\n",
    "model = RandomForestClassifier(n_estimators=100, max_depth=5, random_state=1)\n",
    "model.fit(X, y)\n",
    "predictions = model.predict(X_test)"
   ]
  },
  {
   "cell_type": "markdown",
   "id": "27074d1e",
   "metadata": {
    "papermill": {
     "duration": 0.006023,
     "end_time": "2022-12-25T02:57:53.068292",
     "exception": false,
     "start_time": "2022-12-25T02:57:53.062269",
     "status": "completed"
    },
    "tags": []
   },
   "source": [
    "#### Creating the submission file"
   ]
  },
  {
   "cell_type": "code",
   "execution_count": 7,
   "id": "35e98cc6",
   "metadata": {
    "execution": {
     "iopub.execute_input": "2022-12-25T02:57:53.083557Z",
     "iopub.status.busy": "2022-12-25T02:57:53.082684Z",
     "iopub.status.idle": "2022-12-25T02:57:53.087994Z",
     "shell.execute_reply": "2022-12-25T02:57:53.087247Z"
    },
    "papermill": {
     "duration": 0.015325,
     "end_time": "2022-12-25T02:57:53.090170",
     "exception": false,
     "start_time": "2022-12-25T02:57:53.074845",
     "status": "completed"
    },
    "tags": []
   },
   "outputs": [],
   "source": [
    "def save_submission(test_data, predictions):\n",
    "    output = pd.DataFrame({'PassengerId': test_data.PassengerId, 'Survived': predictions})\n",
    "    output.to_csv('submission.csv', index=False)\n",
    "    print('Your submission was successfully saved.')"
   ]
  },
  {
   "cell_type": "code",
   "execution_count": 8,
   "id": "b0e0818b",
   "metadata": {
    "execution": {
     "iopub.execute_input": "2022-12-25T02:57:53.104914Z",
     "iopub.status.busy": "2022-12-25T02:57:53.104153Z",
     "iopub.status.idle": "2022-12-25T02:57:53.113900Z",
     "shell.execute_reply": "2022-12-25T02:57:53.112583Z"
    },
    "papermill": {
     "duration": 0.019783,
     "end_time": "2022-12-25T02:57:53.116401",
     "exception": false,
     "start_time": "2022-12-25T02:57:53.096618",
     "status": "completed"
    },
    "tags": []
   },
   "outputs": [
    {
     "name": "stdout",
     "output_type": "stream",
     "text": [
      "Your submission was successfully saved.\n"
     ]
    }
   ],
   "source": [
    "save_submission(test_data, predictions)"
   ]
  },
  {
   "cell_type": "markdown",
   "id": "5518f2e0",
   "metadata": {
    "execution": {
     "iopub.execute_input": "2022-12-25T01:43:30.670249Z",
     "iopub.status.busy": "2022-12-25T01:43:30.669364Z",
     "iopub.status.idle": "2022-12-25T01:43:30.676922Z",
     "shell.execute_reply": "2022-12-25T01:43:30.675113Z",
     "shell.execute_reply.started": "2022-12-25T01:43:30.670195Z"
    },
    "papermill": {
     "duration": 0.006435,
     "end_time": "2022-12-25T02:57:53.129389",
     "exception": false,
     "start_time": "2022-12-25T02:57:53.122954",
     "status": "completed"
    },
    "tags": []
   },
   "source": [
    "## My own edit"
   ]
  },
  {
   "cell_type": "markdown",
   "id": "63e85e4c",
   "metadata": {
    "papermill": {
     "duration": 0.006013,
     "end_time": "2022-12-25T02:57:53.142004",
     "exception": false,
     "start_time": "2022-12-25T02:57:53.135991",
     "status": "completed"
    },
    "tags": []
   },
   "source": [
    "#### Getting out the missing values"
   ]
  },
  {
   "cell_type": "code",
   "execution_count": 9,
   "id": "d4ccacf5",
   "metadata": {
    "execution": {
     "iopub.execute_input": "2022-12-25T02:57:53.156776Z",
     "iopub.status.busy": "2022-12-25T02:57:53.156366Z",
     "iopub.status.idle": "2022-12-25T02:57:53.167614Z",
     "shell.execute_reply": "2022-12-25T02:57:53.166485Z"
    },
    "papermill": {
     "duration": 0.022081,
     "end_time": "2022-12-25T02:57:53.170764",
     "exception": false,
     "start_time": "2022-12-25T02:57:53.148683",
     "status": "completed"
    },
    "tags": []
   },
   "outputs": [],
   "source": [
    "train_data.drop(columns='Cabin', axis=0, inplace=True)\n",
    "train_data.fillna(method='ffill', inplace=True)"
   ]
  },
  {
   "cell_type": "markdown",
   "id": "d69d23aa",
   "metadata": {
    "papermill": {
     "duration": 0.008936,
     "end_time": "2022-12-25T02:57:53.189602",
     "exception": false,
     "start_time": "2022-12-25T02:57:53.180666",
     "status": "completed"
    },
    "tags": []
   },
   "source": [
    "#### Cheking the accuracy for RandomForest"
   ]
  },
  {
   "cell_type": "code",
   "execution_count": 10,
   "id": "3d09fa05",
   "metadata": {
    "execution": {
     "iopub.execute_input": "2022-12-25T02:57:53.206991Z",
     "iopub.status.busy": "2022-12-25T02:57:53.206331Z",
     "iopub.status.idle": "2022-12-25T02:57:53.214583Z",
     "shell.execute_reply": "2022-12-25T02:57:53.213437Z"
    },
    "papermill": {
     "duration": 0.019314,
     "end_time": "2022-12-25T02:57:53.217683",
     "exception": false,
     "start_time": "2022-12-25T02:57:53.198369",
     "status": "completed"
    },
    "tags": []
   },
   "outputs": [],
   "source": [
    "def train_model(X, y, model):\n",
    "    '''This is a function that get the X and y, split in train and test data, \n",
    "    train the model and check their accuracy. It is just for testing'''    \n",
    "    \n",
    "    X_train, X_test, y_train, y_test = train_test_split(X, y, test_size = 0.25, stratify = y)\n",
    "    # print('{} elements will be used to train, and {} elements to test.'.format(len(X_train), len(y_test)))\n",
    "    \n",
    "    model.fit(X_train, y_train)\n",
    "    predictions = model.predict(X_test)\n",
    "\n",
    "    accuracy_rate = accuracy_score(y_test, predictions) * 100\n",
    "    # print('For the {}, the accuracy rate is: {:.2f}'.format(model.base_estimator, accuracy_rate))\n",
    "    \n",
    "    return int(accuracy_rate)"
   ]
  },
  {
   "cell_type": "code",
   "execution_count": 11,
   "id": "220d00b2",
   "metadata": {
    "execution": {
     "iopub.execute_input": "2022-12-25T02:57:53.237332Z",
     "iopub.status.busy": "2022-12-25T02:57:53.236202Z",
     "iopub.status.idle": "2022-12-25T02:57:53.248787Z",
     "shell.execute_reply": "2022-12-25T02:57:53.247641Z"
    },
    "papermill": {
     "duration": 0.023081,
     "end_time": "2022-12-25T02:57:53.251400",
     "exception": false,
     "start_time": "2022-12-25T02:57:53.228319",
     "status": "completed"
    },
    "tags": []
   },
   "outputs": [],
   "source": [
    "y = train_data['Survived']\n",
    "features = ['Pclass', 'Sex', 'Age', 'SibSp', 'Fare', 'Parch']\n",
    "\n",
    "X = pd.get_dummies(train_data[features])\n",
    "\n",
    "model = RandomForestClassifier(n_estimators=150, max_depth=5, random_state=2)"
   ]
  },
  {
   "cell_type": "code",
   "execution_count": 12,
   "id": "02c95449",
   "metadata": {
    "execution": {
     "iopub.execute_input": "2022-12-25T02:57:53.266421Z",
     "iopub.status.busy": "2022-12-25T02:57:53.266006Z",
     "iopub.status.idle": "2022-12-25T02:58:19.955413Z",
     "shell.execute_reply": "2022-12-25T02:58:19.954061Z"
    },
    "papermill": {
     "duration": 26.699464,
     "end_time": "2022-12-25T02:58:19.957605",
     "exception": false,
     "start_time": "2022-12-25T02:57:53.258141",
     "status": "completed"
    },
    "tags": []
   },
   "outputs": [
    {
     "name": "stdout",
     "output_type": "stream",
     "text": [
      "The mean for this setting is 81.41\n"
     ]
    }
   ],
   "source": [
    "limit = 100\n",
    "accuracies = []\n",
    "for i in range(0, limit):\n",
    "    accuracies.append(train_model(X, y, model))    \n",
    "    \n",
    "print('The mean for this setting is {}'.format(sum(accuracies)/limit))"
   ]
  },
  {
   "cell_type": "markdown",
   "id": "43cdc432",
   "metadata": {
    "papermill": {
     "duration": 0.006207,
     "end_time": "2022-12-25T02:58:19.970353",
     "exception": false,
     "start_time": "2022-12-25T02:58:19.964146",
     "status": "completed"
    },
    "tags": []
   },
   "source": [
    "### Testing the new setup and making a second submission file"
   ]
  },
  {
   "cell_type": "markdown",
   "id": "5e14b279",
   "metadata": {
    "papermill": {
     "duration": 0.006021,
     "end_time": "2022-12-25T02:58:19.982634",
     "exception": false,
     "start_time": "2022-12-25T02:58:19.976613",
     "status": "completed"
    },
    "tags": []
   },
   "source": [
    "##### Handling with missing values in test_data"
   ]
  },
  {
   "cell_type": "code",
   "execution_count": 13,
   "id": "34c61ee9",
   "metadata": {
    "execution": {
     "iopub.execute_input": "2022-12-25T02:58:19.996920Z",
     "iopub.status.busy": "2022-12-25T02:58:19.996453Z",
     "iopub.status.idle": "2022-12-25T02:58:20.002605Z",
     "shell.execute_reply": "2022-12-25T02:58:20.001695Z"
    },
    "papermill": {
     "duration": 0.015814,
     "end_time": "2022-12-25T02:58:20.004750",
     "exception": false,
     "start_time": "2022-12-25T02:58:19.988936",
     "status": "completed"
    },
    "tags": []
   },
   "outputs": [],
   "source": [
    "test_data.fillna(method='ffill', inplace=True)"
   ]
  },
  {
   "cell_type": "markdown",
   "id": "f1c69fc1",
   "metadata": {
    "papermill": {
     "duration": 0.006421,
     "end_time": "2022-12-25T02:58:20.018056",
     "exception": false,
     "start_time": "2022-12-25T02:58:20.011635",
     "status": "completed"
    },
    "tags": []
   },
   "source": [
    "Trainning with the second model setup"
   ]
  },
  {
   "cell_type": "code",
   "execution_count": 14,
   "id": "eb917919",
   "metadata": {
    "execution": {
     "iopub.execute_input": "2022-12-25T02:58:20.033523Z",
     "iopub.status.busy": "2022-12-25T02:58:20.032691Z",
     "iopub.status.idle": "2022-12-25T02:58:20.334604Z",
     "shell.execute_reply": "2022-12-25T02:58:20.333262Z"
    },
    "papermill": {
     "duration": 0.312883,
     "end_time": "2022-12-25T02:58:20.337572",
     "exception": false,
     "start_time": "2022-12-25T02:58:20.024689",
     "status": "completed"
    },
    "tags": []
   },
   "outputs": [],
   "source": [
    "# X, y and the model remains the same above\n",
    "\n",
    "X_test = pd.get_dummies(test_data[features])\n",
    "model.fit(X, y)\n",
    "predictions = model.predict(X_test)"
   ]
  },
  {
   "cell_type": "markdown",
   "id": "72238dcd",
   "metadata": {
    "papermill": {
     "duration": 0.006848,
     "end_time": "2022-12-25T02:58:20.351259",
     "exception": false,
     "start_time": "2022-12-25T02:58:20.344411",
     "status": "completed"
    },
    "tags": []
   },
   "source": [
    "Saving the submission file."
   ]
  },
  {
   "cell_type": "code",
   "execution_count": 15,
   "id": "9291047e",
   "metadata": {
    "execution": {
     "iopub.execute_input": "2022-12-25T02:58:20.366163Z",
     "iopub.status.busy": "2022-12-25T02:58:20.365737Z",
     "iopub.status.idle": "2022-12-25T02:58:20.374848Z",
     "shell.execute_reply": "2022-12-25T02:58:20.373702Z"
    },
    "papermill": {
     "duration": 0.019422,
     "end_time": "2022-12-25T02:58:20.377326",
     "exception": false,
     "start_time": "2022-12-25T02:58:20.357904",
     "status": "completed"
    },
    "tags": []
   },
   "outputs": [
    {
     "name": "stdout",
     "output_type": "stream",
     "text": [
      "Your submission was successfully saved.\n"
     ]
    }
   ],
   "source": [
    "save_submission(test_data, predictions)"
   ]
  }
 ],
 "metadata": {
  "kernelspec": {
   "display_name": "Python 3",
   "language": "python",
   "name": "python3"
  },
  "language_info": {
   "codemirror_mode": {
    "name": "ipython",
    "version": 3
   },
   "file_extension": ".py",
   "mimetype": "text/x-python",
   "name": "python",
   "nbconvert_exporter": "python",
   "pygments_lexer": "ipython3",
   "version": "3.7.12"
  },
  "papermill": {
   "default_parameters": {},
   "duration": 38.063486,
   "end_time": "2022-12-25T02:58:21.106620",
   "environment_variables": {},
   "exception": null,
   "input_path": "__notebook__.ipynb",
   "output_path": "__notebook__.ipynb",
   "parameters": {},
   "start_time": "2022-12-25T02:57:43.043134",
   "version": "2.3.4"
  }
 },
 "nbformat": 4,
 "nbformat_minor": 5
}
