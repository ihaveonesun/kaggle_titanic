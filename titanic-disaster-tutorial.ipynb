{
 "cells": [
  {
   "cell_type": "markdown",
   "id": "45f7123d",
   "metadata": {
    "papermill": {
     "duration": 0.007463,
     "end_time": "2022-12-25T02:53:46.410951",
     "exception": false,
     "start_time": "2022-12-25T02:53:46.403488",
     "status": "completed"
    },
    "tags": []
   },
   "source": [
    "Since this is my first notebook in Kaggle, I've followed the tutorial for learning purpose. After, I've made some tweaks for the Random Forest yet."
   ]
  },
  {
   "cell_type": "code",
   "execution_count": 1,
   "id": "ce32fa46",
   "metadata": {
    "_cell_guid": "b1076dfc-b9ad-4769-8c92-a6c4dae69d19",
    "_uuid": "8f2839f25d086af736a60e9eeb907d3b93b6e0e5",
    "execution": {
     "iopub.execute_input": "2022-12-25T02:53:46.428355Z",
     "iopub.status.busy": "2022-12-25T02:53:46.427729Z",
     "iopub.status.idle": "2022-12-25T02:53:48.089666Z",
     "shell.execute_reply": "2022-12-25T02:53:48.087790Z"
    },
    "papermill": {
     "duration": 1.674893,
     "end_time": "2022-12-25T02:53:48.093035",
     "exception": false,
     "start_time": "2022-12-25T02:53:46.418142",
     "status": "completed"
    },
    "tags": []
   },
   "outputs": [
    {
     "name": "stdout",
     "output_type": "stream",
     "text": [
      "/kaggle/input/titanic/train.csv\n",
      "/kaggle/input/titanic/test.csv\n",
      "/kaggle/input/titanic/gender_submission.csv\n"
     ]
    }
   ],
   "source": [
    "import numpy as np # linear algebra\n",
    "import pandas as pd # data processing, CSV file I/O (e.g. pd.read_csv)\n",
    "\n",
    "# Input data files are available in the read-only \"../input/\" directory\n",
    "# For example, running this (by clicking run or pressing Shift+Enter) will list all files under the input directory\n",
    "\n",
    "import os\n",
    "for dirname, _, filenames in os.walk('/kaggle/input'):\n",
    "    for filename in filenames:\n",
    "        print(os.path.join(dirname, filename))        \n",
    "\n",
    "        \n",
    "from sklearn.ensemble import RandomForestClassifier\n",
    "\n",
    "from sklearn.model_selection import train_test_split\n",
    "from sklearn.metrics import accuracy_score"
   ]
  },
  {
   "cell_type": "code",
   "execution_count": 2,
   "id": "25597532",
   "metadata": {
    "execution": {
     "iopub.execute_input": "2022-12-25T02:53:48.109829Z",
     "iopub.status.busy": "2022-12-25T02:53:48.109353Z",
     "iopub.status.idle": "2022-12-25T02:53:48.162164Z",
     "shell.execute_reply": "2022-12-25T02:53:48.160845Z"
    },
    "papermill": {
     "duration": 0.064085,
     "end_time": "2022-12-25T02:53:48.164843",
     "exception": false,
     "start_time": "2022-12-25T02:53:48.100758",
     "status": "completed"
    },
    "tags": []
   },
   "outputs": [
    {
     "data": {
      "text/html": [
       "<div>\n",
       "<style scoped>\n",
       "    .dataframe tbody tr th:only-of-type {\n",
       "        vertical-align: middle;\n",
       "    }\n",
       "\n",
       "    .dataframe tbody tr th {\n",
       "        vertical-align: top;\n",
       "    }\n",
       "\n",
       "    .dataframe thead th {\n",
       "        text-align: right;\n",
       "    }\n",
       "</style>\n",
       "<table border=\"1\" class=\"dataframe\">\n",
       "  <thead>\n",
       "    <tr style=\"text-align: right;\">\n",
       "      <th></th>\n",
       "      <th>PassengerId</th>\n",
       "      <th>Survived</th>\n",
       "      <th>Pclass</th>\n",
       "      <th>Name</th>\n",
       "      <th>Sex</th>\n",
       "      <th>Age</th>\n",
       "      <th>SibSp</th>\n",
       "      <th>Parch</th>\n",
       "      <th>Ticket</th>\n",
       "      <th>Fare</th>\n",
       "      <th>Cabin</th>\n",
       "      <th>Embarked</th>\n",
       "    </tr>\n",
       "  </thead>\n",
       "  <tbody>\n",
       "    <tr>\n",
       "      <th>0</th>\n",
       "      <td>1</td>\n",
       "      <td>0</td>\n",
       "      <td>3</td>\n",
       "      <td>Braund, Mr. Owen Harris</td>\n",
       "      <td>male</td>\n",
       "      <td>22.0</td>\n",
       "      <td>1</td>\n",
       "      <td>0</td>\n",
       "      <td>A/5 21171</td>\n",
       "      <td>7.2500</td>\n",
       "      <td>NaN</td>\n",
       "      <td>S</td>\n",
       "    </tr>\n",
       "    <tr>\n",
       "      <th>1</th>\n",
       "      <td>2</td>\n",
       "      <td>1</td>\n",
       "      <td>1</td>\n",
       "      <td>Cumings, Mrs. John Bradley (Florence Briggs Th...</td>\n",
       "      <td>female</td>\n",
       "      <td>38.0</td>\n",
       "      <td>1</td>\n",
       "      <td>0</td>\n",
       "      <td>PC 17599</td>\n",
       "      <td>71.2833</td>\n",
       "      <td>C85</td>\n",
       "      <td>C</td>\n",
       "    </tr>\n",
       "    <tr>\n",
       "      <th>2</th>\n",
       "      <td>3</td>\n",
       "      <td>1</td>\n",
       "      <td>3</td>\n",
       "      <td>Heikkinen, Miss. Laina</td>\n",
       "      <td>female</td>\n",
       "      <td>26.0</td>\n",
       "      <td>0</td>\n",
       "      <td>0</td>\n",
       "      <td>STON/O2. 3101282</td>\n",
       "      <td>7.9250</td>\n",
       "      <td>NaN</td>\n",
       "      <td>S</td>\n",
       "    </tr>\n",
       "    <tr>\n",
       "      <th>3</th>\n",
       "      <td>4</td>\n",
       "      <td>1</td>\n",
       "      <td>1</td>\n",
       "      <td>Futrelle, Mrs. Jacques Heath (Lily May Peel)</td>\n",
       "      <td>female</td>\n",
       "      <td>35.0</td>\n",
       "      <td>1</td>\n",
       "      <td>0</td>\n",
       "      <td>113803</td>\n",
       "      <td>53.1000</td>\n",
       "      <td>C123</td>\n",
       "      <td>S</td>\n",
       "    </tr>\n",
       "    <tr>\n",
       "      <th>4</th>\n",
       "      <td>5</td>\n",
       "      <td>0</td>\n",
       "      <td>3</td>\n",
       "      <td>Allen, Mr. William Henry</td>\n",
       "      <td>male</td>\n",
       "      <td>35.0</td>\n",
       "      <td>0</td>\n",
       "      <td>0</td>\n",
       "      <td>373450</td>\n",
       "      <td>8.0500</td>\n",
       "      <td>NaN</td>\n",
       "      <td>S</td>\n",
       "    </tr>\n",
       "  </tbody>\n",
       "</table>\n",
       "</div>"
      ],
      "text/plain": [
       "   PassengerId  Survived  Pclass  \\\n",
       "0            1         0       3   \n",
       "1            2         1       1   \n",
       "2            3         1       3   \n",
       "3            4         1       1   \n",
       "4            5         0       3   \n",
       "\n",
       "                                                Name     Sex   Age  SibSp  \\\n",
       "0                            Braund, Mr. Owen Harris    male  22.0      1   \n",
       "1  Cumings, Mrs. John Bradley (Florence Briggs Th...  female  38.0      1   \n",
       "2                             Heikkinen, Miss. Laina  female  26.0      0   \n",
       "3       Futrelle, Mrs. Jacques Heath (Lily May Peel)  female  35.0      1   \n",
       "4                           Allen, Mr. William Henry    male  35.0      0   \n",
       "\n",
       "   Parch            Ticket     Fare Cabin Embarked  \n",
       "0      0         A/5 21171   7.2500   NaN        S  \n",
       "1      0          PC 17599  71.2833   C85        C  \n",
       "2      0  STON/O2. 3101282   7.9250   NaN        S  \n",
       "3      0            113803  53.1000  C123        S  \n",
       "4      0            373450   8.0500   NaN        S  "
      ]
     },
     "execution_count": 2,
     "metadata": {},
     "output_type": "execute_result"
    }
   ],
   "source": [
    "train_data = pd.read_csv('/kaggle/input/titanic/train.csv')\n",
    "train_data.head()"
   ]
  },
  {
   "cell_type": "code",
   "execution_count": 3,
   "id": "0685d35b",
   "metadata": {
    "execution": {
     "iopub.execute_input": "2022-12-25T02:53:48.179965Z",
     "iopub.status.busy": "2022-12-25T02:53:48.179548Z",
     "iopub.status.idle": "2022-12-25T02:53:48.205924Z",
     "shell.execute_reply": "2022-12-25T02:53:48.204295Z"
    },
    "papermill": {
     "duration": 0.037118,
     "end_time": "2022-12-25T02:53:48.208662",
     "exception": false,
     "start_time": "2022-12-25T02:53:48.171544",
     "status": "completed"
    },
    "tags": []
   },
   "outputs": [
    {
     "data": {
      "text/html": [
       "<div>\n",
       "<style scoped>\n",
       "    .dataframe tbody tr th:only-of-type {\n",
       "        vertical-align: middle;\n",
       "    }\n",
       "\n",
       "    .dataframe tbody tr th {\n",
       "        vertical-align: top;\n",
       "    }\n",
       "\n",
       "    .dataframe thead th {\n",
       "        text-align: right;\n",
       "    }\n",
       "</style>\n",
       "<table border=\"1\" class=\"dataframe\">\n",
       "  <thead>\n",
       "    <tr style=\"text-align: right;\">\n",
       "      <th></th>\n",
       "      <th>PassengerId</th>\n",
       "      <th>Pclass</th>\n",
       "      <th>Name</th>\n",
       "      <th>Sex</th>\n",
       "      <th>Age</th>\n",
       "      <th>SibSp</th>\n",
       "      <th>Parch</th>\n",
       "      <th>Ticket</th>\n",
       "      <th>Fare</th>\n",
       "      <th>Cabin</th>\n",
       "      <th>Embarked</th>\n",
       "    </tr>\n",
       "  </thead>\n",
       "  <tbody>\n",
       "    <tr>\n",
       "      <th>0</th>\n",
       "      <td>892</td>\n",
       "      <td>3</td>\n",
       "      <td>Kelly, Mr. James</td>\n",
       "      <td>male</td>\n",
       "      <td>34.5</td>\n",
       "      <td>0</td>\n",
       "      <td>0</td>\n",
       "      <td>330911</td>\n",
       "      <td>7.8292</td>\n",
       "      <td>NaN</td>\n",
       "      <td>Q</td>\n",
       "    </tr>\n",
       "    <tr>\n",
       "      <th>1</th>\n",
       "      <td>893</td>\n",
       "      <td>3</td>\n",
       "      <td>Wilkes, Mrs. James (Ellen Needs)</td>\n",
       "      <td>female</td>\n",
       "      <td>47.0</td>\n",
       "      <td>1</td>\n",
       "      <td>0</td>\n",
       "      <td>363272</td>\n",
       "      <td>7.0000</td>\n",
       "      <td>NaN</td>\n",
       "      <td>S</td>\n",
       "    </tr>\n",
       "    <tr>\n",
       "      <th>2</th>\n",
       "      <td>894</td>\n",
       "      <td>2</td>\n",
       "      <td>Myles, Mr. Thomas Francis</td>\n",
       "      <td>male</td>\n",
       "      <td>62.0</td>\n",
       "      <td>0</td>\n",
       "      <td>0</td>\n",
       "      <td>240276</td>\n",
       "      <td>9.6875</td>\n",
       "      <td>NaN</td>\n",
       "      <td>Q</td>\n",
       "    </tr>\n",
       "    <tr>\n",
       "      <th>3</th>\n",
       "      <td>895</td>\n",
       "      <td>3</td>\n",
       "      <td>Wirz, Mr. Albert</td>\n",
       "      <td>male</td>\n",
       "      <td>27.0</td>\n",
       "      <td>0</td>\n",
       "      <td>0</td>\n",
       "      <td>315154</td>\n",
       "      <td>8.6625</td>\n",
       "      <td>NaN</td>\n",
       "      <td>S</td>\n",
       "    </tr>\n",
       "    <tr>\n",
       "      <th>4</th>\n",
       "      <td>896</td>\n",
       "      <td>3</td>\n",
       "      <td>Hirvonen, Mrs. Alexander (Helga E Lindqvist)</td>\n",
       "      <td>female</td>\n",
       "      <td>22.0</td>\n",
       "      <td>1</td>\n",
       "      <td>1</td>\n",
       "      <td>3101298</td>\n",
       "      <td>12.2875</td>\n",
       "      <td>NaN</td>\n",
       "      <td>S</td>\n",
       "    </tr>\n",
       "  </tbody>\n",
       "</table>\n",
       "</div>"
      ],
      "text/plain": [
       "   PassengerId  Pclass                                          Name     Sex  \\\n",
       "0          892       3                              Kelly, Mr. James    male   \n",
       "1          893       3              Wilkes, Mrs. James (Ellen Needs)  female   \n",
       "2          894       2                     Myles, Mr. Thomas Francis    male   \n",
       "3          895       3                              Wirz, Mr. Albert    male   \n",
       "4          896       3  Hirvonen, Mrs. Alexander (Helga E Lindqvist)  female   \n",
       "\n",
       "    Age  SibSp  Parch   Ticket     Fare Cabin Embarked  \n",
       "0  34.5      0      0   330911   7.8292   NaN        Q  \n",
       "1  47.0      1      0   363272   7.0000   NaN        S  \n",
       "2  62.0      0      0   240276   9.6875   NaN        Q  \n",
       "3  27.0      0      0   315154   8.6625   NaN        S  \n",
       "4  22.0      1      1  3101298  12.2875   NaN        S  "
      ]
     },
     "execution_count": 3,
     "metadata": {},
     "output_type": "execute_result"
    }
   ],
   "source": [
    "test_data = pd.read_csv('/kaggle/input/titanic/test.csv')\n",
    "test_data.head()"
   ]
  },
  {
   "cell_type": "code",
   "execution_count": 4,
   "id": "2800216e",
   "metadata": {
    "execution": {
     "iopub.execute_input": "2022-12-25T02:53:48.224293Z",
     "iopub.status.busy": "2022-12-25T02:53:48.223845Z",
     "iopub.status.idle": "2022-12-25T02:53:48.240229Z",
     "shell.execute_reply": "2022-12-25T02:53:48.238916Z"
    },
    "papermill": {
     "duration": 0.027083,
     "end_time": "2022-12-25T02:53:48.242666",
     "exception": false,
     "start_time": "2022-12-25T02:53:48.215583",
     "status": "completed"
    },
    "tags": []
   },
   "outputs": [
    {
     "name": "stdout",
     "output_type": "stream",
     "text": [
      "0.74 of women who survived!\n"
     ]
    }
   ],
   "source": [
    "women = train_data.loc[train_data.Sex == 'female']['Survived']\n",
    "rate_women = sum(women)/len(women)\n",
    "\n",
    "print('{:.2f} of women who survived!'.format(rate_women))"
   ]
  },
  {
   "cell_type": "code",
   "execution_count": 5,
   "id": "461adc1b",
   "metadata": {
    "execution": {
     "iopub.execute_input": "2022-12-25T02:53:48.259654Z",
     "iopub.status.busy": "2022-12-25T02:53:48.258897Z",
     "iopub.status.idle": "2022-12-25T02:53:48.267072Z",
     "shell.execute_reply": "2022-12-25T02:53:48.265545Z"
    },
    "papermill": {
     "duration": 0.020211,
     "end_time": "2022-12-25T02:53:48.269902",
     "exception": false,
     "start_time": "2022-12-25T02:53:48.249691",
     "status": "completed"
    },
    "tags": []
   },
   "outputs": [
    {
     "name": "stdout",
     "output_type": "stream",
     "text": [
      "0.19 of men who survived...\n"
     ]
    }
   ],
   "source": [
    "men = train_data.loc[train_data.Sex == 'male']['Survived']\n",
    "rate_men = sum(men)/len(men)\n",
    "\n",
    "print('{:.2f} of men who survived...'.format(rate_men))"
   ]
  },
  {
   "cell_type": "markdown",
   "id": "5f4a4769",
   "metadata": {
    "papermill": {
     "duration": 0.006491,
     "end_time": "2022-12-25T02:53:48.284239",
     "exception": false,
     "start_time": "2022-12-25T02:53:48.277748",
     "status": "completed"
    },
    "tags": []
   },
   "source": [
    "#### Creating a RandomForest model"
   ]
  },
  {
   "cell_type": "code",
   "execution_count": 6,
   "id": "9abf6799",
   "metadata": {
    "execution": {
     "iopub.execute_input": "2022-12-25T02:53:48.301216Z",
     "iopub.status.busy": "2022-12-25T02:53:48.300710Z",
     "iopub.status.idle": "2022-12-25T02:53:48.521426Z",
     "shell.execute_reply": "2022-12-25T02:53:48.519664Z"
    },
    "papermill": {
     "duration": 0.233149,
     "end_time": "2022-12-25T02:53:48.525224",
     "exception": false,
     "start_time": "2022-12-25T02:53:48.292075",
     "status": "completed"
    },
    "tags": []
   },
   "outputs": [],
   "source": [
    "y = train_data['Survived']\n",
    "features = ['Pclass', 'Sex', 'SibSp', 'Parch']\n",
    "\n",
    "# change text features to binary\n",
    "X = pd.get_dummies(train_data[features])\n",
    "X_test = pd.get_dummies(test_data[features])\n",
    "\n",
    "model = RandomForestClassifier(n_estimators=100, max_depth=5, random_state=1)\n",
    "model.fit(X, y)\n",
    "predictions = model.predict(X_test)"
   ]
  },
  {
   "cell_type": "markdown",
   "id": "ed9844ad",
   "metadata": {
    "papermill": {
     "duration": 0.007579,
     "end_time": "2022-12-25T02:53:48.546479",
     "exception": false,
     "start_time": "2022-12-25T02:53:48.538900",
     "status": "completed"
    },
    "tags": []
   },
   "source": [
    "#### Creating the submission file"
   ]
  },
  {
   "cell_type": "code",
   "execution_count": 7,
   "id": "6b2be289",
   "metadata": {
    "execution": {
     "iopub.execute_input": "2022-12-25T02:53:48.564311Z",
     "iopub.status.busy": "2022-12-25T02:53:48.563311Z",
     "iopub.status.idle": "2022-12-25T02:53:48.569453Z",
     "shell.execute_reply": "2022-12-25T02:53:48.568226Z"
    },
    "papermill": {
     "duration": 0.018663,
     "end_time": "2022-12-25T02:53:48.572608",
     "exception": false,
     "start_time": "2022-12-25T02:53:48.553945",
     "status": "completed"
    },
    "tags": []
   },
   "outputs": [],
   "source": [
    "def save_submission(test_data, predictions):\n",
    "    output = pd.DataFrame({'PassengerId': test_data.PassengerId, 'Survived': predictions})\n",
    "    output.to_csv('submission.csv', index=False)\n",
    "    print('Your submission was successfully saved.')"
   ]
  },
  {
   "cell_type": "code",
   "execution_count": 8,
   "id": "c032ae9f",
   "metadata": {
    "execution": {
     "iopub.execute_input": "2022-12-25T02:53:48.590184Z",
     "iopub.status.busy": "2022-12-25T02:53:48.589667Z",
     "iopub.status.idle": "2022-12-25T02:53:48.602732Z",
     "shell.execute_reply": "2022-12-25T02:53:48.601129Z"
    },
    "papermill": {
     "duration": 0.025736,
     "end_time": "2022-12-25T02:53:48.606352",
     "exception": false,
     "start_time": "2022-12-25T02:53:48.580616",
     "status": "completed"
    },
    "tags": []
   },
   "outputs": [
    {
     "name": "stdout",
     "output_type": "stream",
     "text": [
      "Your submission was successfully saved.\n"
     ]
    }
   ],
   "source": [
    "save_submission(test_data, predictions)"
   ]
  },
  {
   "cell_type": "markdown",
   "id": "fcabb86b",
   "metadata": {
    "execution": {
     "iopub.execute_input": "2022-12-25T01:43:30.670249Z",
     "iopub.status.busy": "2022-12-25T01:43:30.669364Z",
     "iopub.status.idle": "2022-12-25T01:43:30.676922Z",
     "shell.execute_reply": "2022-12-25T01:43:30.675113Z",
     "shell.execute_reply.started": "2022-12-25T01:43:30.670195Z"
    },
    "papermill": {
     "duration": 0.006423,
     "end_time": "2022-12-25T02:53:48.620210",
     "exception": false,
     "start_time": "2022-12-25T02:53:48.613787",
     "status": "completed"
    },
    "tags": []
   },
   "source": [
    "## My own edit"
   ]
  },
  {
   "cell_type": "markdown",
   "id": "ce71fc13",
   "metadata": {
    "papermill": {
     "duration": 0.0066,
     "end_time": "2022-12-25T02:53:48.633735",
     "exception": false,
     "start_time": "2022-12-25T02:53:48.627135",
     "status": "completed"
    },
    "tags": []
   },
   "source": [
    "#### Getting out the missing values"
   ]
  },
  {
   "cell_type": "code",
   "execution_count": 9,
   "id": "f7f08643",
   "metadata": {
    "execution": {
     "iopub.execute_input": "2022-12-25T02:53:48.650207Z",
     "iopub.status.busy": "2022-12-25T02:53:48.649273Z",
     "iopub.status.idle": "2022-12-25T02:53:48.661238Z",
     "shell.execute_reply": "2022-12-25T02:53:48.660047Z"
    },
    "papermill": {
     "duration": 0.023102,
     "end_time": "2022-12-25T02:53:48.663761",
     "exception": false,
     "start_time": "2022-12-25T02:53:48.640659",
     "status": "completed"
    },
    "tags": []
   },
   "outputs": [],
   "source": [
    "train_data.drop(columns='Cabin', axis=0, inplace=True)\n",
    "train_data.fillna(method='ffill', inplace=True)"
   ]
  },
  {
   "cell_type": "markdown",
   "id": "ade9e0a9",
   "metadata": {
    "papermill": {
     "duration": 0.00746,
     "end_time": "2022-12-25T02:53:48.678843",
     "exception": false,
     "start_time": "2022-12-25T02:53:48.671383",
     "status": "completed"
    },
    "tags": []
   },
   "source": [
    "#### Cheking the accuracy for RandomForest"
   ]
  },
  {
   "cell_type": "code",
   "execution_count": 10,
   "id": "096f54c8",
   "metadata": {
    "execution": {
     "iopub.execute_input": "2022-12-25T02:53:48.696289Z",
     "iopub.status.busy": "2022-12-25T02:53:48.695649Z",
     "iopub.status.idle": "2022-12-25T02:53:48.706053Z",
     "shell.execute_reply": "2022-12-25T02:53:48.704614Z"
    },
    "papermill": {
     "duration": 0.022189,
     "end_time": "2022-12-25T02:53:48.708829",
     "exception": false,
     "start_time": "2022-12-25T02:53:48.686640",
     "status": "completed"
    },
    "tags": []
   },
   "outputs": [],
   "source": [
    "def train_model(X, y, model):\n",
    "    '''This is a function that get the X and y, split in train and test data, \n",
    "    train the model and check their accuracy. It is just for testing'''    \n",
    "    \n",
    "    X_train, X_test, y_train, y_test = train_test_split(X, y, test_size = 0.25, stratify = y)\n",
    "    # print('{} elements will be used to train, and {} elements to test.'.format(len(X_train), len(y_test)))\n",
    "    \n",
    "    model.fit(X_train, y_train)\n",
    "    predictions = model.predict(X_test)\n",
    "\n",
    "    accuracy_rate = accuracy_score(y_test, predictions) * 100\n",
    "    # print('For the {}, the accuracy rate is: {:.2f}'.format(model.base_estimator, accuracy_rate))\n",
    "    \n",
    "    return int(accuracy_rate)"
   ]
  },
  {
   "cell_type": "code",
   "execution_count": 11,
   "id": "1b27131c",
   "metadata": {
    "execution": {
     "iopub.execute_input": "2022-12-25T02:53:48.727834Z",
     "iopub.status.busy": "2022-12-25T02:53:48.727093Z",
     "iopub.status.idle": "2022-12-25T02:53:48.742406Z",
     "shell.execute_reply": "2022-12-25T02:53:48.741192Z"
    },
    "papermill": {
     "duration": 0.029039,
     "end_time": "2022-12-25T02:53:48.745962",
     "exception": false,
     "start_time": "2022-12-25T02:53:48.716923",
     "status": "completed"
    },
    "tags": []
   },
   "outputs": [],
   "source": [
    "y = train_data['Survived']\n",
    "features = ['Pclass', 'Sex', 'Age', 'SibSp', 'Fare', 'Parch']\n",
    "\n",
    "X = pd.get_dummies(train_data[features])\n",
    "\n",
    "model = RandomForestClassifier(n_estimators=150, max_depth=5, random_state=2)"
   ]
  },
  {
   "cell_type": "code",
   "execution_count": 12,
   "id": "2aea3a87",
   "metadata": {
    "execution": {
     "iopub.execute_input": "2022-12-25T02:53:48.762061Z",
     "iopub.status.busy": "2022-12-25T02:53:48.761228Z",
     "iopub.status.idle": "2022-12-25T02:54:18.071644Z",
     "shell.execute_reply": "2022-12-25T02:54:18.070293Z"
    },
    "papermill": {
     "duration": 29.321563,
     "end_time": "2022-12-25T02:54:18.074626",
     "exception": false,
     "start_time": "2022-12-25T02:53:48.753063",
     "status": "completed"
    },
    "tags": []
   },
   "outputs": [
    {
     "name": "stdout",
     "output_type": "stream",
     "text": [
      "The mean for this setting is 81.41\n"
     ]
    }
   ],
   "source": [
    "limit = 100\n",
    "accuracies = []\n",
    "for i in range(0, limit):\n",
    "    accuracies.append(train_model(X, y, model))    \n",
    "    \n",
    "print('The mean for this setting is {}'.format(sum(accuracies)/limit))"
   ]
  },
  {
   "cell_type": "markdown",
   "id": "60070283",
   "metadata": {
    "papermill": {
     "duration": 0.006806,
     "end_time": "2022-12-25T02:54:18.088832",
     "exception": false,
     "start_time": "2022-12-25T02:54:18.082026",
     "status": "completed"
    },
    "tags": []
   },
   "source": [
    "### Testing the new setup and making a second submission file"
   ]
  },
  {
   "cell_type": "markdown",
   "id": "121491c6",
   "metadata": {
    "papermill": {
     "duration": 0.007029,
     "end_time": "2022-12-25T02:54:18.102635",
     "exception": false,
     "start_time": "2022-12-25T02:54:18.095606",
     "status": "completed"
    },
    "tags": []
   },
   "source": [
    "##### Handling with missing values in test_data"
   ]
  },
  {
   "cell_type": "code",
   "execution_count": 13,
   "id": "cbf04334",
   "metadata": {
    "execution": {
     "iopub.execute_input": "2022-12-25T02:54:18.120717Z",
     "iopub.status.busy": "2022-12-25T02:54:18.119702Z",
     "iopub.status.idle": "2022-12-25T02:54:18.126903Z",
     "shell.execute_reply": "2022-12-25T02:54:18.125969Z"
    },
    "papermill": {
     "duration": 0.019815,
     "end_time": "2022-12-25T02:54:18.129527",
     "exception": false,
     "start_time": "2022-12-25T02:54:18.109712",
     "status": "completed"
    },
    "tags": []
   },
   "outputs": [],
   "source": [
    "test_data.fillna(method='ffill', inplace=True)"
   ]
  },
  {
   "cell_type": "markdown",
   "id": "a885a2fe",
   "metadata": {
    "papermill": {
     "duration": 0.006746,
     "end_time": "2022-12-25T02:54:18.143724",
     "exception": false,
     "start_time": "2022-12-25T02:54:18.136978",
     "status": "completed"
    },
    "tags": []
   },
   "source": [
    "Trainning with the second model setup"
   ]
  },
  {
   "cell_type": "code",
   "execution_count": 14,
   "id": "10b8bd72",
   "metadata": {
    "execution": {
     "iopub.execute_input": "2022-12-25T02:54:18.161017Z",
     "iopub.status.busy": "2022-12-25T02:54:18.160262Z",
     "iopub.status.idle": "2022-12-25T02:54:18.495166Z",
     "shell.execute_reply": "2022-12-25T02:54:18.493746Z"
    },
    "papermill": {
     "duration": 0.347886,
     "end_time": "2022-12-25T02:54:18.499153",
     "exception": false,
     "start_time": "2022-12-25T02:54:18.151267",
     "status": "completed"
    },
    "tags": []
   },
   "outputs": [],
   "source": [
    "# X, y and the model remains the same above\n",
    "\n",
    "X_test = pd.get_dummies(test_data[features])\n",
    "model.fit(X, y)\n",
    "predictions = model.predict(X_test)"
   ]
  },
  {
   "cell_type": "markdown",
   "id": "5e7fa514",
   "metadata": {
    "papermill": {
     "duration": 0.007683,
     "end_time": "2022-12-25T02:54:18.514468",
     "exception": false,
     "start_time": "2022-12-25T02:54:18.506785",
     "status": "completed"
    },
    "tags": []
   },
   "source": [
    "Saving the submission file."
   ]
  },
  {
   "cell_type": "code",
   "execution_count": 15,
   "id": "eba5571f",
   "metadata": {
    "execution": {
     "iopub.execute_input": "2022-12-25T02:54:18.533360Z",
     "iopub.status.busy": "2022-12-25T02:54:18.532106Z",
     "iopub.status.idle": "2022-12-25T02:54:18.542954Z",
     "shell.execute_reply": "2022-12-25T02:54:18.541001Z"
    },
    "papermill": {
     "duration": 0.024843,
     "end_time": "2022-12-25T02:54:18.547019",
     "exception": false,
     "start_time": "2022-12-25T02:54:18.522176",
     "status": "completed"
    },
    "tags": []
   },
   "outputs": [
    {
     "name": "stdout",
     "output_type": "stream",
     "text": [
      "Your submission was successfully saved.\n"
     ]
    }
   ],
   "source": [
    "save_submission(test_data, predictions)"
   ]
  }
 ],
 "metadata": {
  "kernelspec": {
   "display_name": "Python 3",
   "language": "python",
   "name": "python3"
  },
  "language_info": {
   "codemirror_mode": {
    "name": "ipython",
    "version": 3
   },
   "file_extension": ".py",
   "mimetype": "text/x-python",
   "name": "python",
   "nbconvert_exporter": "python",
   "pygments_lexer": "ipython3",
   "version": "3.7.12"
  },
  "papermill": {
   "default_parameters": {},
   "duration": 44.324569,
   "end_time": "2022-12-25T02:54:19.478715",
   "environment_variables": {},
   "exception": null,
   "input_path": "__notebook__.ipynb",
   "output_path": "__notebook__.ipynb",
   "parameters": {},
   "start_time": "2022-12-25T02:53:35.154146",
   "version": "2.3.4"
  }
 },
 "nbformat": 4,
 "nbformat_minor": 5
}
